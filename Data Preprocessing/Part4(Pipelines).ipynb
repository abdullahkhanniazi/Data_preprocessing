{
 "cells": [
  {
   "cell_type": "code",
   "execution_count": 5,
   "metadata": {},
   "outputs": [],
   "source": [
    "import numpy as np \n",
    "import pandas as pd \n",
    "import matplotlib.pyplot as plt \n",
    "import plotly as pl \n",
    "import seaborn as sns \n",
    "from sklearn.linear_model import LinearRegression\n",
    "from sklearn.ensemble import RandomForestClassifier\n",
    "from sklearn.model_selection import train_test_split\n",
    "from sklearn.metrics import mean_squared_error, r2_score, accuracy_score\n",
    "from sklearn.feature_extraction.text import TfidfVectorizer\n",
    "from sklearn.compose import ColumnTransformer\n",
    "from sklearn.pipeline import Pipeline\n",
    "from sklearn.preprocessing import StandardScaler, OneHotEncoder, LabelEncoder\n",
    "from sklearn.impute import SimpleImputer"
   ]
  },
  {
   "cell_type": "code",
   "execution_count": 6,
   "metadata": {},
   "outputs": [
    {
     "data": {
      "application/vnd.microsoft.datawrangler.viewer.v0+json": {
       "columns": [
        {
         "name": "index",
         "rawType": "int64",
         "type": "integer"
        },
        {
         "name": "age",
         "rawType": "float64",
         "type": "float"
        },
        {
         "name": "income",
         "rawType": "float64",
         "type": "float"
        },
        {
         "name": "gender",
         "rawType": "object",
         "type": "string"
        },
        {
         "name": "city",
         "rawType": "object",
         "type": "string"
        },
        {
         "name": "review",
         "rawType": "object",
         "type": "string"
        },
        {
         "name": "target",
         "rawType": "int64",
         "type": "integer"
        }
       ],
       "conversionMethod": "pd.DataFrame",
       "ref": "ed42a272-610a-46ed-b42b-0409d2df0aed",
       "rows": [
        [
         "0",
         "25.0",
         "50000.0",
         "M",
         "NY",
         "Great product!",
         "1"
        ],
        [
         "1",
         "30.0",
         "60000.0",
         "F",
         "LA",
         "Not bad",
         "0"
        ],
        [
         "2",
         null,
         "70000.0",
         "M",
         "NY",
         "Amazing",
         "1"
        ],
        [
         "3",
         "40.0",
         null,
         "F",
         "SF",
         "Could be better",
         "0"
        ]
       ],
       "shape": {
        "columns": 6,
        "rows": 4
       }
      },
      "text/html": [
       "<div>\n",
       "<style scoped>\n",
       "    .dataframe tbody tr th:only-of-type {\n",
       "        vertical-align: middle;\n",
       "    }\n",
       "\n",
       "    .dataframe tbody tr th {\n",
       "        vertical-align: top;\n",
       "    }\n",
       "\n",
       "    .dataframe thead th {\n",
       "        text-align: right;\n",
       "    }\n",
       "</style>\n",
       "<table border=\"1\" class=\"dataframe\">\n",
       "  <thead>\n",
       "    <tr style=\"text-align: right;\">\n",
       "      <th></th>\n",
       "      <th>age</th>\n",
       "      <th>income</th>\n",
       "      <th>gender</th>\n",
       "      <th>city</th>\n",
       "      <th>review</th>\n",
       "      <th>target</th>\n",
       "    </tr>\n",
       "  </thead>\n",
       "  <tbody>\n",
       "    <tr>\n",
       "      <th>0</th>\n",
       "      <td>25.0</td>\n",
       "      <td>50000.0</td>\n",
       "      <td>M</td>\n",
       "      <td>NY</td>\n",
       "      <td>Great product!</td>\n",
       "      <td>1</td>\n",
       "    </tr>\n",
       "    <tr>\n",
       "      <th>1</th>\n",
       "      <td>30.0</td>\n",
       "      <td>60000.0</td>\n",
       "      <td>F</td>\n",
       "      <td>LA</td>\n",
       "      <td>Not bad</td>\n",
       "      <td>0</td>\n",
       "    </tr>\n",
       "    <tr>\n",
       "      <th>2</th>\n",
       "      <td>NaN</td>\n",
       "      <td>70000.0</td>\n",
       "      <td>M</td>\n",
       "      <td>NY</td>\n",
       "      <td>Amazing</td>\n",
       "      <td>1</td>\n",
       "    </tr>\n",
       "    <tr>\n",
       "      <th>3</th>\n",
       "      <td>40.0</td>\n",
       "      <td>NaN</td>\n",
       "      <td>F</td>\n",
       "      <td>SF</td>\n",
       "      <td>Could be better</td>\n",
       "      <td>0</td>\n",
       "    </tr>\n",
       "  </tbody>\n",
       "</table>\n",
       "</div>"
      ],
      "text/plain": [
       "    age   income gender city           review  target\n",
       "0  25.0  50000.0      M   NY   Great product!       1\n",
       "1  30.0  60000.0      F   LA          Not bad       0\n",
       "2   NaN  70000.0      M   NY          Amazing       1\n",
       "3  40.0      NaN      F   SF  Could be better       0"
      ]
     },
     "execution_count": 6,
     "metadata": {},
     "output_type": "execute_result"
    }
   ],
   "source": [
    "# Sample data\n",
    "data = {\n",
    "    'age': [25, 30, None, 40],\n",
    "    'income': [50000, 60000, 70000, np.nan],\n",
    "    'gender': ['M', 'F', 'M', 'F'],\n",
    "    'city': ['NY', 'LA', 'NY', 'SF'],\n",
    "    'review': ['Great product!', 'Not bad', 'Amazing', 'Could be better'],\n",
    "    'target': [1, 0, 1, 0]\n",
    "}\n",
    "df = pd.DataFrame(data)\n",
    "df"
   ]
  },
  {
   "cell_type": "code",
   "execution_count": 7,
   "metadata": {},
   "outputs": [],
   "source": [
    "# Split data into features (X) and target (y)\n",
    "X = df.iloc[:, :-1]\n",
    "y = df.iloc[:,-1]\n",
    "\n",
    "X_train, X_test, y_train, y_test = train_test_split(X,y, test_size=0.2, random_state=42)"
   ]
  },
  {
   "cell_type": "code",
   "execution_count": 8,
   "metadata": {},
   "outputs": [],
   "source": [
    "numerical_transformer = Pipeline(steps=[\n",
    "    (\"imputer\", SimpleImputer(strategy='mean')),\n",
    "    (\"scalar\", StandardScaler())\n",
    "])\n",
    "\n",
    "categorical_transformer = Pipeline(steps=[\n",
    "    (\"imputer\", SimpleImputer(strategy=\"most_frequent\")),\n",
    "    (\"onehot\", OneHotEncoder(handle_unknown=\"ignore\"))\n",
    "])\n",
    "\n",
    "text_transformer = Pipeline(steps=[\n",
    "    (\"tfidf\", TfidfVectorizer())\n",
    "])"
   ]
  },
  {
   "cell_type": "code",
   "execution_count": 9,
   "metadata": {},
   "outputs": [],
   "source": [
    "preprocessor = ColumnTransformer(\n",
    "    transformers= [\n",
    "        (\"num\", numerical_transformer, ['age', 'income']),\n",
    "        (\"cat\", categorical_transformer, [\"gender\", \"city\"]),\n",
    "        (\"text\", text_transformer, \"review\")\n",
    "    ],\n",
    "    remainder=\"drop\"\n",
    ")"
   ]
  },
  {
   "cell_type": "code",
   "execution_count": 10,
   "metadata": {},
   "outputs": [
    {
     "name": "stdout",
     "output_type": "stream",
     "text": [
      "Model1 Output: [1]\n",
      "Accuracy: 0.00\n"
     ]
    }
   ],
   "source": [
    "# full Pipeline\n",
    "model_pipeline1 = Pipeline(steps=[\n",
    "    (\"preprocessor\", preprocessor),\n",
    "    (\"model\", RandomForestClassifier())\n",
    "])\n",
    "\n",
    "model_pipeline1.fit(X_train, y_train)\n",
    "y_pred = model_pipeline1.predict(X_test)\n",
    "print(f\"Model1 Output: {y_pred}\")\n",
    "accuracy = accuracy_score(y_test, y_pred)\n",
    "print(f\"Accuracy: {accuracy:.2f}\")"
   ]
  },
  {
   "cell_type": "code",
   "execution_count": 11,
   "metadata": {},
   "outputs": [
    {
     "name": "stdout",
     "output_type": "stream",
     "text": [
      "Model1 Output: [0.54258675]\n"
     ]
    }
   ],
   "source": [
    "from sklearn.linear_model import LogisticRegression\n",
    "model_pipeline2 = Pipeline(steps=[\n",
    "    (\"preprocessor\", preprocessor),\n",
    "    (\"model\", LinearRegression())\n",
    "])\n",
    "\n",
    "model_pipeline2.fit(X_train, y_train)\n",
    "y_pred = model_pipeline2.predict(X_test)\n",
    "print(f\"Model1 Output: {y_pred}\")\n"
   ]
  },
  {
   "cell_type": "markdown",
   "metadata": {},
   "source": [
    "## Example 2"
   ]
  },
  {
   "cell_type": "code",
   "execution_count": 12,
   "metadata": {},
   "outputs": [
    {
     "data": {
      "application/vnd.microsoft.datawrangler.viewer.v0+json": {
       "columns": [
        {
         "name": "index",
         "rawType": "int64",
         "type": "integer"
        },
        {
         "name": "age",
         "rawType": "float64",
         "type": "float"
        },
        {
         "name": "income",
         "rawType": "float64",
         "type": "float"
        },
        {
         "name": "gender",
         "rawType": "object",
         "type": "string"
        },
        {
         "name": "city",
         "rawType": "object",
         "type": "string"
        },
        {
         "name": "review",
         "rawType": "object",
         "type": "string"
        },
        {
         "name": "target",
         "rawType": "int64",
         "type": "integer"
        }
       ],
       "conversionMethod": "pd.DataFrame",
       "ref": "272b00ed-7a0a-4d8b-a542-c00fe09b393c",
       "rows": [
        [
         "0",
         "25.0",
         "50000.0",
         "M",
         "NY",
         "Great product!",
         "1"
        ],
        [
         "1",
         "30.0",
         "60000.0",
         "F",
         "LA",
         "Not bad",
         "0"
        ],
        [
         "2",
         null,
         "70000.0",
         "M",
         "NY",
         "Amazing",
         "1"
        ],
        [
         "3",
         "40.0",
         null,
         "F",
         "SF",
         "Could be better",
         "0"
        ],
        [
         "4",
         "50.0",
         "80000.0",
         "M",
         "NY",
         "Loved it!",
         "1"
        ],
        [
         "5",
         "60.0",
         "90000.0",
         "F",
         "LA",
         "Okay",
         "0"
        ],
        [
         "6",
         "70.0",
         "100000.0",
         "M",
         "NY",
         "Fantastic",
         "1"
        ],
        [
         "7",
         "80.0",
         "110000.0",
         "F",
         "SF",
         "Disappointing",
         "0"
        ]
       ],
       "shape": {
        "columns": 6,
        "rows": 8
       }
      },
      "text/html": [
       "<div>\n",
       "<style scoped>\n",
       "    .dataframe tbody tr th:only-of-type {\n",
       "        vertical-align: middle;\n",
       "    }\n",
       "\n",
       "    .dataframe tbody tr th {\n",
       "        vertical-align: top;\n",
       "    }\n",
       "\n",
       "    .dataframe thead th {\n",
       "        text-align: right;\n",
       "    }\n",
       "</style>\n",
       "<table border=\"1\" class=\"dataframe\">\n",
       "  <thead>\n",
       "    <tr style=\"text-align: right;\">\n",
       "      <th></th>\n",
       "      <th>age</th>\n",
       "      <th>income</th>\n",
       "      <th>gender</th>\n",
       "      <th>city</th>\n",
       "      <th>review</th>\n",
       "      <th>target</th>\n",
       "    </tr>\n",
       "  </thead>\n",
       "  <tbody>\n",
       "    <tr>\n",
       "      <th>0</th>\n",
       "      <td>25.0</td>\n",
       "      <td>50000.0</td>\n",
       "      <td>M</td>\n",
       "      <td>NY</td>\n",
       "      <td>Great product!</td>\n",
       "      <td>1</td>\n",
       "    </tr>\n",
       "    <tr>\n",
       "      <th>1</th>\n",
       "      <td>30.0</td>\n",
       "      <td>60000.0</td>\n",
       "      <td>F</td>\n",
       "      <td>LA</td>\n",
       "      <td>Not bad</td>\n",
       "      <td>0</td>\n",
       "    </tr>\n",
       "    <tr>\n",
       "      <th>2</th>\n",
       "      <td>NaN</td>\n",
       "      <td>70000.0</td>\n",
       "      <td>M</td>\n",
       "      <td>NY</td>\n",
       "      <td>Amazing</td>\n",
       "      <td>1</td>\n",
       "    </tr>\n",
       "    <tr>\n",
       "      <th>3</th>\n",
       "      <td>40.0</td>\n",
       "      <td>NaN</td>\n",
       "      <td>F</td>\n",
       "      <td>SF</td>\n",
       "      <td>Could be better</td>\n",
       "      <td>0</td>\n",
       "    </tr>\n",
       "    <tr>\n",
       "      <th>4</th>\n",
       "      <td>50.0</td>\n",
       "      <td>80000.0</td>\n",
       "      <td>M</td>\n",
       "      <td>NY</td>\n",
       "      <td>Loved it!</td>\n",
       "      <td>1</td>\n",
       "    </tr>\n",
       "    <tr>\n",
       "      <th>5</th>\n",
       "      <td>60.0</td>\n",
       "      <td>90000.0</td>\n",
       "      <td>F</td>\n",
       "      <td>LA</td>\n",
       "      <td>Okay</td>\n",
       "      <td>0</td>\n",
       "    </tr>\n",
       "    <tr>\n",
       "      <th>6</th>\n",
       "      <td>70.0</td>\n",
       "      <td>100000.0</td>\n",
       "      <td>M</td>\n",
       "      <td>NY</td>\n",
       "      <td>Fantastic</td>\n",
       "      <td>1</td>\n",
       "    </tr>\n",
       "    <tr>\n",
       "      <th>7</th>\n",
       "      <td>80.0</td>\n",
       "      <td>110000.0</td>\n",
       "      <td>F</td>\n",
       "      <td>SF</td>\n",
       "      <td>Disappointing</td>\n",
       "      <td>0</td>\n",
       "    </tr>\n",
       "  </tbody>\n",
       "</table>\n",
       "</div>"
      ],
      "text/plain": [
       "    age    income gender city           review  target\n",
       "0  25.0   50000.0      M   NY   Great product!       1\n",
       "1  30.0   60000.0      F   LA          Not bad       0\n",
       "2   NaN   70000.0      M   NY          Amazing       1\n",
       "3  40.0       NaN      F   SF  Could be better       0\n",
       "4  50.0   80000.0      M   NY        Loved it!       1\n",
       "5  60.0   90000.0      F   LA             Okay       0\n",
       "6  70.0  100000.0      M   NY        Fantastic       1\n",
       "7  80.0  110000.0      F   SF    Disappointing       0"
      ]
     },
     "execution_count": 12,
     "metadata": {},
     "output_type": "execute_result"
    }
   ],
   "source": [
    "from sklearn.base import BaseEstimator, TransformerMixin\n",
    "\n",
    "# Sample data\n",
    "data = {\n",
    "    'age': [25, 30, None, 40, 50, 60, 70, 80],\n",
    "    'income': [50000, 60000, 70000, None, 80000, 90000, 100000, 110000],\n",
    "    'gender': ['M', 'F', 'M', 'F', 'M', 'F', 'M', 'F'],\n",
    "    'city': ['NY', 'LA', 'NY', 'SF', 'NY', 'LA', 'NY', 'SF'],\n",
    "    'review': ['Great product!', 'Not bad', 'Amazing', 'Could be better', 'Loved it!', 'Okay', 'Fantastic', 'Disappointing'],\n",
    "    'target': [1, 0, 1, 0, 1, 0, 1, 0]  # Imbalanced target (4:4 ratio in this small example)\n",
    "}\n",
    "df = pd.DataFrame(data)\n",
    "\n",
    "# Split data\n",
    "X = df.drop('target', axis=1)\n",
    "y = df['target']\n",
    "X_train, X_test, y_train, y_test = train_test_split(X, y, test_size=0.2, random_state=42)\n",
    "df"
   ]
  },
  {
   "cell_type": "code",
   "execution_count": 13,
   "metadata": {},
   "outputs": [
    {
     "name": "stdout",
     "output_type": "stream",
     "text": [
      "Model Prediction: [1 0]\n"
     ]
    }
   ],
   "source": [
    "num_trans = Pipeline(steps=[\n",
    "    (\"num\", SimpleImputer(strategy=\"mean\")),\n",
    "    (\"scalar\", StandardScaler())\n",
    "])\n",
    "\n",
    "cat_trans = Pipeline(steps=[\n",
    "    (\"imputer\", SimpleImputer(strategy=\"most_frequent\")),\n",
    "    (\"onehot\", OneHotEncoder(handle_unknown=\"ignore\"))\n",
    "])\n",
    "\n",
    "text_trans = Pipeline(steps=[\n",
    "    (\"tfidf\", TfidfVectorizer())\n",
    "])\n",
    "\n",
    "# Let's do preprocessing\n",
    "preprocessor = ColumnTransformer(\n",
    "    transformers= [\n",
    "        (\"num\", num_trans, [\"age\", \"income\"]),\n",
    "        (\"cat\", cat_trans, [\"gender\", \"city\"]),\n",
    "        (\"text\", text_trans, \"review\")\n",
    "    ], \n",
    "    remainder= \"drop\"\n",
    ")\n",
    "\n",
    "# Create full pipeline\n",
    "model1 = Pipeline(steps=[\n",
    "    (\"preprocessor\", preprocessor),\n",
    "    (\"classifier\", RandomForestClassifier())\n",
    "])\n",
    "\n",
    "# data1 = preprocessor.fit_transform(pd.DataFrame({\n",
    "#     'age': [60],\n",
    "#     'income': [90000],\n",
    "#     'gender': ['F'],\n",
    "#     'city': ['LA'],\n",
    "#     'review': ['Okay']\n",
    "# }))\n",
    "# data1\n",
    "model1.fit(X_train, y_train)\n",
    "y_pred = model1.predict(X_test)\n",
    "print(f\"Model Prediction: {y_pred}\")"
   ]
  },
  {
   "cell_type": "markdown",
   "metadata": {},
   "source": [
    "## Example"
   ]
  },
  {
   "cell_type": "code",
   "execution_count": 17,
   "metadata": {},
   "outputs": [],
   "source": [
    "from imblearn.over_sampling import SMOTE\n",
    "from sklearn.ensemble import RandomForestClassifier\n",
    "from sklearn.model_selection import GridSearchCV\n",
    "from sklearn.metrics import classification_report, confusion_matrix"
   ]
  },
  {
   "cell_type": "code",
   "execution_count": 16,
   "metadata": {},
   "outputs": [
    {
     "data": {
      "application/vnd.microsoft.datawrangler.viewer.v0+json": {
       "columns": [
        {
         "name": "index",
         "rawType": "int64",
         "type": "integer"
        },
        {
         "name": "age",
         "rawType": "float64",
         "type": "float"
        },
        {
         "name": "income",
         "rawType": "float64",
         "type": "float"
        },
        {
         "name": "gender",
         "rawType": "object",
         "type": "string"
        },
        {
         "name": "city",
         "rawType": "object",
         "type": "string"
        },
        {
         "name": "review",
         "rawType": "object",
         "type": "string"
        },
        {
         "name": "target",
         "rawType": "int64",
         "type": "integer"
        }
       ],
       "conversionMethod": "pd.DataFrame",
       "ref": "50378756-cef1-445a-8f38-e6e284b391ea",
       "rows": [
        [
         "0",
         "25.0",
         "50000.0",
         "M",
         "NY",
         "Great product!",
         "1"
        ],
        [
         "1",
         "30.0",
         "60000.0",
         "F",
         "LA",
         "Not bad",
         "0"
        ],
        [
         "2",
         null,
         "70000.0",
         "M",
         "NY",
         "Amazing",
         "1"
        ],
        [
         "3",
         "40.0",
         null,
         "F",
         "SF",
         "Could be better",
         "0"
        ],
        [
         "4",
         "50.0",
         "80000.0",
         "M",
         "NY",
         "Loved it!",
         "1"
        ],
        [
         "5",
         "60.0",
         "90000.0",
         "F",
         "LA",
         "Okay",
         "0"
        ],
        [
         "6",
         "70.0",
         "100000.0",
         "M",
         "NY",
         "Fantastic",
         "1"
        ],
        [
         "7",
         "80.0",
         "110000.0",
         "F",
         "SF",
         "Disappointing",
         "0"
        ]
       ],
       "shape": {
        "columns": 6,
        "rows": 8
       }
      },
      "text/html": [
       "<div>\n",
       "<style scoped>\n",
       "    .dataframe tbody tr th:only-of-type {\n",
       "        vertical-align: middle;\n",
       "    }\n",
       "\n",
       "    .dataframe tbody tr th {\n",
       "        vertical-align: top;\n",
       "    }\n",
       "\n",
       "    .dataframe thead th {\n",
       "        text-align: right;\n",
       "    }\n",
       "</style>\n",
       "<table border=\"1\" class=\"dataframe\">\n",
       "  <thead>\n",
       "    <tr style=\"text-align: right;\">\n",
       "      <th></th>\n",
       "      <th>age</th>\n",
       "      <th>income</th>\n",
       "      <th>gender</th>\n",
       "      <th>city</th>\n",
       "      <th>review</th>\n",
       "      <th>target</th>\n",
       "    </tr>\n",
       "  </thead>\n",
       "  <tbody>\n",
       "    <tr>\n",
       "      <th>0</th>\n",
       "      <td>25.0</td>\n",
       "      <td>50000.0</td>\n",
       "      <td>M</td>\n",
       "      <td>NY</td>\n",
       "      <td>Great product!</td>\n",
       "      <td>1</td>\n",
       "    </tr>\n",
       "    <tr>\n",
       "      <th>1</th>\n",
       "      <td>30.0</td>\n",
       "      <td>60000.0</td>\n",
       "      <td>F</td>\n",
       "      <td>LA</td>\n",
       "      <td>Not bad</td>\n",
       "      <td>0</td>\n",
       "    </tr>\n",
       "    <tr>\n",
       "      <th>2</th>\n",
       "      <td>NaN</td>\n",
       "      <td>70000.0</td>\n",
       "      <td>M</td>\n",
       "      <td>NY</td>\n",
       "      <td>Amazing</td>\n",
       "      <td>1</td>\n",
       "    </tr>\n",
       "    <tr>\n",
       "      <th>3</th>\n",
       "      <td>40.0</td>\n",
       "      <td>NaN</td>\n",
       "      <td>F</td>\n",
       "      <td>SF</td>\n",
       "      <td>Could be better</td>\n",
       "      <td>0</td>\n",
       "    </tr>\n",
       "    <tr>\n",
       "      <th>4</th>\n",
       "      <td>50.0</td>\n",
       "      <td>80000.0</td>\n",
       "      <td>M</td>\n",
       "      <td>NY</td>\n",
       "      <td>Loved it!</td>\n",
       "      <td>1</td>\n",
       "    </tr>\n",
       "    <tr>\n",
       "      <th>5</th>\n",
       "      <td>60.0</td>\n",
       "      <td>90000.0</td>\n",
       "      <td>F</td>\n",
       "      <td>LA</td>\n",
       "      <td>Okay</td>\n",
       "      <td>0</td>\n",
       "    </tr>\n",
       "    <tr>\n",
       "      <th>6</th>\n",
       "      <td>70.0</td>\n",
       "      <td>100000.0</td>\n",
       "      <td>M</td>\n",
       "      <td>NY</td>\n",
       "      <td>Fantastic</td>\n",
       "      <td>1</td>\n",
       "    </tr>\n",
       "    <tr>\n",
       "      <th>7</th>\n",
       "      <td>80.0</td>\n",
       "      <td>110000.0</td>\n",
       "      <td>F</td>\n",
       "      <td>SF</td>\n",
       "      <td>Disappointing</td>\n",
       "      <td>0</td>\n",
       "    </tr>\n",
       "  </tbody>\n",
       "</table>\n",
       "</div>"
      ],
      "text/plain": [
       "    age    income gender city           review  target\n",
       "0  25.0   50000.0      M   NY   Great product!       1\n",
       "1  30.0   60000.0      F   LA          Not bad       0\n",
       "2   NaN   70000.0      M   NY          Amazing       1\n",
       "3  40.0       NaN      F   SF  Could be better       0\n",
       "4  50.0   80000.0      M   NY        Loved it!       1\n",
       "5  60.0   90000.0      F   LA             Okay       0\n",
       "6  70.0  100000.0      M   NY        Fantastic       1\n",
       "7  80.0  110000.0      F   SF    Disappointing       0"
      ]
     },
     "execution_count": 16,
     "metadata": {},
     "output_type": "execute_result"
    }
   ],
   "source": [
    "# Sample data\n",
    "data = {\n",
    "    'age': [25, 30, None, 40, 50, 60, 70, 80],\n",
    "    'income': [50000, 60000, 70000, None, 80000, 90000, 100000, 110000],\n",
    "    'gender': ['M', 'F', 'M', 'F', 'M', 'F', 'M', 'F'],\n",
    "    'city': ['NY', 'LA', 'NY', 'SF', 'NY', 'LA', 'NY', 'SF'],\n",
    "    'review': ['Great product!', 'Not bad', 'Amazing', 'Could be better', 'Loved it!', 'Okay', 'Fantastic', 'Disappointing'],\n",
    "    'target': [1, 0, 1, 0, 1, 0, 1, 0]  # Imbalanced target (4:4 ratio in this small example)\n",
    "}\n",
    "df = pd.DataFrame(data)\n",
    "df"
   ]
  },
  {
   "cell_type": "code",
   "execution_count": 18,
   "metadata": {},
   "outputs": [],
   "source": [
    "# Numerical Transform\n",
    "numerical_transformer = Pipeline(steps=[\n",
    "    (\"imputer\", SimpleImputer(strategy=\"mean\")),\n",
    "    (\"scaler\", StandardScaler())\n",
    "])\n",
    "\n",
    "# Categorical transformer\n",
    "categorical_transformer = Pipeline(steps = [\n",
    "    (\"imputer\", SimpleImputer(strategy=\"most_frequent\")),\n",
    "    (\"scalar\", OneHotEncoder(handle_unknown=\"ignore\")) \n",
    "])\n",
    "# Text transformer\n",
    "text_transformer = Pipeline(steps=[\n",
    "    (\"tfidf\", TfidfVectorizer())\n",
    "])\n",
    "\n",
    "# Create ColumnTransformer\n",
    "\n",
    "preprocessor = ColumnTransformer(\n",
    "    transformers=[\n",
    "        (\"num\", numerical_transformer, [\"age\", \"income\"]),\n",
    "        (\"cat\", categorical_transformer, [\"gender\", \"city\"]),\n",
    "        (\"text\", text_transformer, \"review\")\n",
    "],\n",
    "    remainder=\"drop\"\n",
    ")"
   ]
  },
  {
   "cell_type": "code",
   "execution_count": 26,
   "metadata": {},
   "outputs": [],
   "source": [
    "model_pipeline = Pipeline(steps=[\n",
    "    (\"preprocessor\", preprocessor),\n",
    "    # (\"smote\", SMOTE(random_state=42)),\n",
    "    (\"classifier\", RandomForestClassifier())\n",
    "])"
   ]
  },
  {
   "cell_type": "code",
   "execution_count": 29,
   "metadata": {},
   "outputs": [
    {
     "name": "stdout",
     "output_type": "stream",
     "text": [
      "Confusion Matrix:\n",
      " [[0 2]\n",
      " [0 0]]\n",
      "\n",
      "Classification Report:\n",
      "               precision    recall  f1-score   support\n",
      "\n",
      "           0       0.00      0.00      0.00       2.0\n",
      "           1       0.00      0.00      0.00       0.0\n",
      "\n",
      "    accuracy                           0.00       2.0\n",
      "   macro avg       0.00      0.00      0.00       2.0\n",
      "weighted avg       0.00      0.00      0.00       2.0\n",
      "\n"
     ]
    },
    {
     "name": "stderr",
     "output_type": "stream",
     "text": [
      "C:\\Users\\Abdullah khan\\AppData\\Roaming\\Python\\Python310\\site-packages\\sklearn\\metrics\\_classification.py:1565: UndefinedMetricWarning: Precision is ill-defined and being set to 0.0 in labels with no predicted samples. Use `zero_division` parameter to control this behavior.\n",
      "  _warn_prf(average, modifier, f\"{metric.capitalize()} is\", len(result))\n",
      "C:\\Users\\Abdullah khan\\AppData\\Roaming\\Python\\Python310\\site-packages\\sklearn\\metrics\\_classification.py:1565: UndefinedMetricWarning: Recall is ill-defined and being set to 0.0 in labels with no true samples. Use `zero_division` parameter to control this behavior.\n",
      "  _warn_prf(average, modifier, f\"{metric.capitalize()} is\", len(result))\n",
      "C:\\Users\\Abdullah khan\\AppData\\Roaming\\Python\\Python310\\site-packages\\sklearn\\metrics\\_classification.py:1565: UndefinedMetricWarning: Precision is ill-defined and being set to 0.0 in labels with no predicted samples. Use `zero_division` parameter to control this behavior.\n",
      "  _warn_prf(average, modifier, f\"{metric.capitalize()} is\", len(result))\n",
      "C:\\Users\\Abdullah khan\\AppData\\Roaming\\Python\\Python310\\site-packages\\sklearn\\metrics\\_classification.py:1565: UndefinedMetricWarning: Recall is ill-defined and being set to 0.0 in labels with no true samples. Use `zero_division` parameter to control this behavior.\n",
      "  _warn_prf(average, modifier, f\"{metric.capitalize()} is\", len(result))\n",
      "C:\\Users\\Abdullah khan\\AppData\\Roaming\\Python\\Python310\\site-packages\\sklearn\\metrics\\_classification.py:1565: UndefinedMetricWarning: Precision is ill-defined and being set to 0.0 in labels with no predicted samples. Use `zero_division` parameter to control this behavior.\n",
      "  _warn_prf(average, modifier, f\"{metric.capitalize()} is\", len(result))\n",
      "C:\\Users\\Abdullah khan\\AppData\\Roaming\\Python\\Python310\\site-packages\\sklearn\\metrics\\_classification.py:1565: UndefinedMetricWarning: Recall is ill-defined and being set to 0.0 in labels with no true samples. Use `zero_division` parameter to control this behavior.\n",
      "  _warn_prf(average, modifier, f\"{metric.capitalize()} is\", len(result))\n"
     ]
    }
   ],
   "source": [
    "# Now siplit train and test data\n",
    "\n",
    "# Split data\n",
    "X = df.drop('target', axis=1)\n",
    "y = df['target']\n",
    "X_train, X_test, y_train, y_test = train_test_split(X, y, test_size=0.2, random_state=42)\n",
    "\n",
    "\n",
    "\n",
    "\n",
    "# Fit the pipeline\n",
    "model_pipeline.fit(X_train, y_train)\n",
    "\n",
    "# # Make predictions\n",
    "y_pred = model_pipeline.predict(X_test)\n",
    "\n",
    "# # Evaluate the model\n",
    "print(\"Confusion Matrix:\\n\", confusion_matrix(y_test, y_pred))\n",
    "print(\"\\nClassification Report:\\n\", classification_report(y_test, y_pred))"
   ]
  }
 ],
 "metadata": {
  "kernelspec": {
   "display_name": "Python 3",
   "language": "python",
   "name": "python3"
  },
  "language_info": {
   "codemirror_mode": {
    "name": "ipython",
    "version": 3
   },
   "file_extension": ".py",
   "mimetype": "text/x-python",
   "name": "python",
   "nbconvert_exporter": "python",
   "pygments_lexer": "ipython3",
   "version": "3.10.5"
  }
 },
 "nbformat": 4,
 "nbformat_minor": 2
}
